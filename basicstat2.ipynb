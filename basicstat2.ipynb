{
  "nbformat": 4,
  "nbformat_minor": 0,
  "metadata": {
    "colab": {
      "provenance": [],
      "authorship_tag": "ABX9TyPHOdJHzSYVyMYmvjE1BQ+I",
      "include_colab_link": true
    },
    "kernelspec": {
      "name": "python3",
      "display_name": "Python 3"
    },
    "language_info": {
      "name": "python"
    }
  },
  "cells": [
    {
      "cell_type": "markdown",
      "metadata": {
        "id": "view-in-github",
        "colab_type": "text"
      },
      "source": [
        "<a href=\"https://colab.research.google.com/github/SURESHASWATHI/assignment/blob/main/basicstat2.ipynb\" target=\"_parent\"><img src=\"https://colab.research.google.com/assets/colab-badge.svg\" alt=\"Open In Colab\"/></a>"
      ]
    },
    {
      "cell_type": "code",
      "execution_count": null,
      "metadata": {
        "id": "r_-WvqlMd8mh"
      },
      "outputs": [],
      "source": []
    },
    {
      "cell_type": "code",
      "metadata": {
        "id": "f1f9adae"
      },
      "source": [
        "durability_data = [1.1, 1.3, 1.0, 1.2, 1.1, 1.3, 1.2, 1.1, 1.0, 1.2]"
      ],
      "execution_count": 1,
      "outputs": []
    },
    {
      "cell_type": "code",
      "metadata": {
        "colab": {
          "base_uri": "https://localhost:8080/"
        },
        "id": "ed9a75e9",
        "outputId": "51abb2d6-383d-4b4a-b092-3aa7b1ad2942"
      },
      "source": [
        "import numpy as np\n",
        "\n",
        "sample_mean_a = np.mean(durability_data)\n",
        "sample_std_dev_a = np.std(durability_data, ddof=1)\n",
        "\n",
        "print(f\"Sample Mean: {sample_mean_a}\")\n",
        "print(f\"Sample Standard Deviation: {sample_std_dev_a}\")"
      ],
      "execution_count": 2,
      "outputs": [
        {
          "output_type": "stream",
          "name": "stdout",
          "text": [
            "Sample Mean: 1.15\n",
            "Sample Standard Deviation: 0.10801234497346433\n"
          ]
        }
      ]
    },
    {
      "cell_type": "markdown",
      "metadata": {
        "id": "240cf80b"
      },
      "source": [
        "**Reasoning**:\n",
        "Calculate the degrees of freedom and the t-score for a 99% confidence interval.\n",
        "\n"
      ]
    },
    {
      "cell_type": "code",
      "metadata": {
        "colab": {
          "base_uri": "https://localhost:8080/"
        },
        "id": "0ff539bc",
        "outputId": "06bf6eaf-a6df-49e3-b7b7-8fd84786c577"
      },
      "source": [
        "degrees_of_freedom = len(durability_data) - 1\n",
        "from scipy.stats import t\n",
        "alpha = 1 - 0.99\n",
        "lower_tail_prob = alpha / 2\n",
        "t_score_a = abs(t.ppf(lower_tail_prob, degrees_of_freedom))\n",
        "print(f\"Degrees of Freedom: {degrees_of_freedom}\")\n",
        "print(f\"T-score for 99% confidence interval: {t_score_a}\")"
      ],
      "execution_count": 3,
      "outputs": [
        {
          "output_type": "stream",
          "name": "stdout",
          "text": [
            "Degrees of Freedom: 9\n",
            "T-score for 99% confidence interval: 3.2498355415921254\n"
          ]
        }
      ]
    },
    {
      "cell_type": "markdown",
      "metadata": {
        "id": "1f5b90fd"
      },
      "source": [
        "**Reasoning**:\n",
        "Calculate the standard error and then the margin of error using the provided variables and store it in `margin_of_error_a`.\n",
        "\n"
      ]
    },
    {
      "cell_type": "code",
      "metadata": {
        "colab": {
          "base_uri": "https://localhost:8080/"
        },
        "id": "eefd4cca",
        "outputId": "2a252749-4d4e-4fc9-a8df-d877891a1826"
      },
      "source": [
        "import math\n",
        "\n",
        "sample_size = len(durability_data)\n",
        "standard_error_a = sample_std_dev_a / math.sqrt(sample_size)\n",
        "margin_of_error_a = t_score_a * standard_error_a\n",
        "\n",
        "print(f\"Standard Error (Scenario A): {standard_error_a}\")\n",
        "print(f\"Margin of Error (Scenario A): {margin_of_error_a}\")"
      ],
      "execution_count": 4,
      "outputs": [
        {
          "output_type": "stream",
          "name": "stdout",
          "text": [
            "Standard Error (Scenario A): 0.03415650255319866\n",
            "Margin of Error (Scenario A): 0.11100301597386718\n"
          ]
        }
      ]
    },
    {
      "cell_type": "markdown",
      "metadata": {
        "id": "a9de7ece"
      },
      "source": [
        "**Reasoning**:\n",
        "Calculate the lower and upper bounds of the confidence interval and print the result.\n",
        "\n"
      ]
    },
    {
      "cell_type": "code",
      "metadata": {
        "colab": {
          "base_uri": "https://localhost:8080/"
        },
        "id": "4899689e",
        "outputId": "f9f6f557-2049-4b59-9f09-388852b0cfb0"
      },
      "source": [
        "lower_bound_a = sample_mean_a - margin_of_error_a\n",
        "upper_bound_a = sample_mean_a + margin_of_error_a\n",
        "\n",
        "print(f\"99% Confidence Interval (Scenario A): [{lower_bound_a:.3f}, {upper_bound_a:.3f}]\")"
      ],
      "execution_count": 5,
      "outputs": [
        {
          "output_type": "stream",
          "name": "stdout",
          "text": [
            "99% Confidence Interval (Scenario A): [1.039, 1.261]\n"
          ]
        }
      ]
    },
    {
      "cell_type": "markdown",
      "metadata": {
        "id": "47d55d50"
      },
      "source": [
        "**Reasoning**:\n",
        "Explain why the t-distribution is appropriate for constructing the confidence interval in Scenario A, mentioning the conditions for using the t-distribution and relating them to Scenario A.\n",
        "\n"
      ]
    },
    {
      "cell_type": "code",
      "metadata": {
        "colab": {
          "base_uri": "https://localhost:8080/"
        },
        "id": "e8ab5da8",
        "outputId": "dc276b96-7d52-4a64-fc5c-5f3909c02b0e"
      },
      "source": [
        "print(\"Rationale for using the t-distribution in Scenario A:\")\n",
        "print(\"The t-distribution is used for constructing confidence intervals for the mean when the sample size is small AND the population standard deviation is unknown. In Scenario A, we have a small sample size (n=10) and we are using the sample standard deviation as an estimate because the population standard deviation is not provided or assumed to be unknown. Under these conditions, the t-distribution provides a more appropriate and conservative estimate for the confidence interval compared to the z-distribution, which assumes a known population standard deviation or a large sample size (typically n > 30). The t-distribution accounts for the additional uncertainty introduced by estimating the population standard deviation from the sample.\")"
      ],
      "execution_count": 6,
      "outputs": [
        {
          "output_type": "stream",
          "name": "stdout",
          "text": [
            "Rationale for using the t-distribution in Scenario A:\n",
            "The t-distribution is used for constructing confidence intervals for the mean when the sample size is small AND the population standard deviation is unknown. In Scenario A, we have a small sample size (n=10) and we are using the sample standard deviation as an estimate because the population standard deviation is not provided or assumed to be unknown. Under these conditions, the t-distribution provides a more appropriate and conservative estimate for the confidence interval compared to the z-distribution, which assumes a known population standard deviation or a large sample size (typically n > 30). The t-distribution accounts for the additional uncertainty introduced by estimating the population standard deviation from the sample.\n"
          ]
        }
      ]
    },
    {
      "cell_type": "markdown",
      "metadata": {
        "id": "db936450"
      },
      "source": [
        "**Reasoning**:\n",
        "The user wants me to acknowledge that the sample mean is already calculated and stored in the `sample_mean_a` variable. I will print a message to confirm this and then finish the task.\n",
        "\n"
      ]
    },
    {
      "cell_type": "code",
      "metadata": {
        "colab": {
          "base_uri": "https://localhost:8080/"
        },
        "id": "cd98fbeb",
        "outputId": "6b864eb4-3c1e-4907-dd1c-430425c54d70"
      },
      "source": [
        "print(\"The sample mean has already been calculated and stored in the variable 'sample_mean_a'.\")\n",
        "print(f\"Sample Mean: {sample_mean_a}\")"
      ],
      "execution_count": 7,
      "outputs": [
        {
          "output_type": "stream",
          "name": "stdout",
          "text": [
            "The sample mean has already been calculated and stored in the variable 'sample_mean_a'.\n",
            "Sample Mean: 1.15\n"
          ]
        }
      ]
    },
    {
      "cell_type": "markdown",
      "metadata": {
        "id": "4e3baf64"
      },
      "source": [
        "**Reasoning**:\n",
        "The subtask requires calculating the appropriate z-score for a 99% confidence interval in Scenario B, which assumes a known population standard deviation. This involves using the normal distribution (`norm`) from `scipy.stats`. The steps involve defining alpha, calculating the lower tail probability, and using the `ppf` method to find the z-score.\n",
        "\n"
      ]
    },
    {
      "cell_type": "code",
      "metadata": {
        "colab": {
          "base_uri": "https://localhost:8080/"
        },
        "id": "a8a2f8cb",
        "outputId": "0a07da92-b9fc-426a-a613-bdfbdae1d239"
      },
      "source": [
        "from scipy.stats import norm\n",
        "\n",
        "# Define the significance level alpha\n",
        "alpha = 1 - 0.99\n",
        "\n",
        "# Calculate the lower tail probability\n",
        "lower_tail_prob = alpha / 2\n",
        "\n",
        "# Use the ppf method to find the z-score and take the absolute value\n",
        "z_score_b = abs(norm.ppf(lower_tail_prob))\n",
        "\n",
        "# Print the calculated z-score\n",
        "print(f\"Z-score for 99% confidence interval (Scenario B): {z_score_b}\")"
      ],
      "execution_count": 8,
      "outputs": [
        {
          "output_type": "stream",
          "name": "stdout",
          "text": [
            "Z-score for 99% confidence interval (Scenario B): 2.5758293035489004\n"
          ]
        }
      ]
    },
    {
      "cell_type": "markdown",
      "metadata": {
        "id": "a3ee66a3"
      },
      "source": [
        "**Reasoning**:\n",
        "I will now calculate the margin of error for Scenario B. This involves defining the known population standard deviation, calculating the standard error of the mean using this standard deviation and the previously calculated sample size, and then multiplying this standard error by the z-score to get the margin of error. Finally, I will print the standard error and margin of error for Scenario B.\n",
        "\n"
      ]
    },
    {
      "cell_type": "code",
      "metadata": {
        "colab": {
          "base_uri": "https://localhost:8080/"
        },
        "id": "dc129eb5",
        "outputId": "53f11426-dda4-4a3c-d8d3-322abb6c993e"
      },
      "source": [
        "population_std_dev_b = 0.2\n",
        "standard_error_b = population_std_dev_b / math.sqrt(sample_size)\n",
        "margin_of_error_b = z_score_b * standard_error_b\n",
        "\n",
        "print(f\"Standard Error (Scenario B): {standard_error_b}\")\n",
        "print(f\"Margin of Error (Scenario B): {margin_of_error_b}\")"
      ],
      "execution_count": 9,
      "outputs": [
        {
          "output_type": "stream",
          "name": "stdout",
          "text": [
            "Standard Error (Scenario B): 0.06324555320336758\n",
            "Margin of Error (Scenario B): 0.16290974926039525\n"
          ]
        }
      ]
    },
    {
      "cell_type": "markdown",
      "metadata": {
        "id": "44c3843a"
      },
      "source": [
        "**Reasoning**:\n",
        "Calculate the lower and upper bounds of the confidence interval for Scenario B and print the result.\n",
        "\n"
      ]
    },
    {
      "cell_type": "code",
      "metadata": {
        "colab": {
          "base_uri": "https://localhost:8080/"
        },
        "id": "91c34ef8",
        "outputId": "561243c3-6f47-4938-a32f-b3301b8aa2f3"
      },
      "source": [
        "lower_bound_b = sample_mean_a - margin_of_error_b\n",
        "upper_bound_b = sample_mean_a + margin_of_error_b\n",
        "\n",
        "print(f\"99% Confidence Interval (Scenario B): [{lower_bound_b:.3f}, {upper_bound_b:.3f}]\")"
      ],
      "execution_count": 10,
      "outputs": [
        {
          "output_type": "stream",
          "name": "stdout",
          "text": [
            "99% Confidence Interval (Scenario B): [0.987, 1.313]\n"
          ]
        }
      ]
    },
    {
      "cell_type": "markdown",
      "metadata": {
        "id": "eedaed99"
      },
      "source": [
        "## Present results\n",
        "\n",
        "### Subtask:\n",
        "Display the calculated confidence intervals for both scenarios and provide explanations for each.\n"
      ]
    },
    {
      "cell_type": "markdown",
      "metadata": {
        "id": "f81b7a87"
      },
      "source": [
        "**Reasoning**:\n",
        "Display the calculated confidence intervals and provide explanations for both scenarios as requested by the instructions.\n",
        "\n"
      ]
    },
    {
      "cell_type": "code",
      "metadata": {
        "colab": {
          "base_uri": "https://localhost:8080/"
        },
        "id": "be9a275c",
        "outputId": "66464440-014e-412d-dc5a-2e5564242125"
      },
      "source": [
        "# Print results for Scenario A\n",
        "print(\"--- Scenario A Results (Sample Std Dev, t-distribution) ---\")\n",
        "print(f\"99% Confidence Interval (Scenario A): [{lower_bound_a:.3f}, {upper_bound_a:.3f}]\")\n",
        "print(\"\\nExplanation for using the t-distribution in Scenario A:\")\n",
        "print(\"The t-distribution is used for constructing confidence intervals for the mean when the sample size is small AND the population standard deviation is unknown. In Scenario A, we have a small sample size (n=10) and we are using the sample standard deviation as an estimate because the population standard deviation is not provided or assumed to be unknown. Under these conditions, the t-distribution provides a more appropriate and conservative estimate for the confidence interval compared to the z-distribution, which assumes a known population standard deviation or a large sample size (typically n > 30). The t-distribution accounts for the additional uncertainty introduced by estimating the population standard deviation from the sample.\")\n",
        "\n",
        "# Print results for Scenario B\n",
        "print(\"\\n--- Scenario B Results (Known Population Std Dev, z-distribution) ---\")\n",
        "print(f\"99% Confidence Interval (Scenario B): [{lower_bound_b:.3f}, {upper_bound_b:.3f}]\")\n",
        "print(\"\\nExplanation for using the z-distribution in Scenario B:\")\n",
        "print(\"The z-distribution is used for constructing confidence intervals for the mean when the population standard deviation is known, regardless of the sample size (although it's more commonly applied with larger sample sizes when the population standard deviation is unknown, due to the Central Limit Theorem). In Scenario B, we are explicitly given a known population standard deviation of 0.2 million characters. This knowledge allows us to use the z-distribution, which is simpler and doesn't require accounting for the additional variability introduced by estimating the standard deviation from the sample.\")\n",
        "\n",
        "# Compare the intervals\n",
        "print(\"\\n--- Comparison of Confidence Intervals ---\")\n",
        "print(f\"Scenario A Interval (t-dist): [{lower_bound_a:.3f}, {upper_bound_a:.3f}]\")\n",
        "print(f\"Scenario B Interval (z-dist): [{lower_bound_b:.3f}, {upper_bound_b:.3f}]\")\n",
        "print(\"\\nComparison:\")\n",
        "print(\"The confidence interval in Scenario A (using the t-distribution and sample standard deviation) is slightly narrower than the confidence interval in Scenario B (using the z-distribution and known population standard deviation). This difference in width is primarily due to the distribution used and the information available. The t-distribution is generally wider than the z-distribution for the same confidence level and a small sample size because it accounts for the increased uncertainty when the population standard deviation is unknown and estimated from the sample. With a known population standard deviation (Scenario B), there is less uncertainty, leading to a slightly narrower interval. The specific values of the sample standard deviation versus the known population standard deviation also influence the margin of error and thus the width.\")"
      ],
      "execution_count": 11,
      "outputs": [
        {
          "output_type": "stream",
          "name": "stdout",
          "text": [
            "--- Scenario A Results (Sample Std Dev, t-distribution) ---\n",
            "99% Confidence Interval (Scenario A): [1.039, 1.261]\n",
            "\n",
            "Explanation for using the t-distribution in Scenario A:\n",
            "The t-distribution is used for constructing confidence intervals for the mean when the sample size is small AND the population standard deviation is unknown. In Scenario A, we have a small sample size (n=10) and we are using the sample standard deviation as an estimate because the population standard deviation is not provided or assumed to be unknown. Under these conditions, the t-distribution provides a more appropriate and conservative estimate for the confidence interval compared to the z-distribution, which assumes a known population standard deviation or a large sample size (typically n > 30). The t-distribution accounts for the additional uncertainty introduced by estimating the population standard deviation from the sample.\n",
            "\n",
            "--- Scenario B Results (Known Population Std Dev, z-distribution) ---\n",
            "99% Confidence Interval (Scenario B): [0.987, 1.313]\n",
            "\n",
            "Explanation for using the z-distribution in Scenario B:\n",
            "The z-distribution is used for constructing confidence intervals for the mean when the population standard deviation is known, regardless of the sample size (although it's more commonly applied with larger sample sizes when the population standard deviation is unknown, due to the Central Limit Theorem). In Scenario B, we are explicitly given a known population standard deviation of 0.2 million characters. This knowledge allows us to use the z-distribution, which is simpler and doesn't require accounting for the additional variability introduced by estimating the standard deviation from the sample.\n",
            "\n",
            "--- Comparison of Confidence Intervals ---\n",
            "Scenario A Interval (t-dist): [1.039, 1.261]\n",
            "Scenario B Interval (z-dist): [0.987, 1.313]\n",
            "\n",
            "Comparison:\n",
            "The confidence interval in Scenario A (using the t-distribution and sample standard deviation) is slightly narrower than the confidence interval in Scenario B (using the z-distribution and known population standard deviation). This difference in width is primarily due to the distribution used and the information available. The t-distribution is generally wider than the z-distribution for the same confidence level and a small sample size because it accounts for the increased uncertainty when the population standard deviation is unknown and estimated from the sample. With a known population standard deviation (Scenario B), there is less uncertainty, leading to a slightly narrower interval. The specific values of the sample standard deviation versus the known population standard deviation also influence the margin of error and thus the width.\n"
          ]
        }
      ]
    },
    {
      "cell_type": "markdown",
      "metadata": {
        "id": "39ff0382"
      },
      "source": [
        "## Summary:\n",
        "\n",
        "### Data Analysis Key Findings\n",
        "\n",
        "*   The sample mean durability is 1.15 million characters.\n",
        "*   The sample standard deviation is approximately 0.108 million characters.\n",
        "*   For a 99% confidence interval with a sample size of 10 and unknown population standard deviation (Scenario A), the critical t-score is approximately 3.250, and the confidence interval is \\[1.039, 1.261] million characters.\n",
        "*   For a 99% confidence interval with a known population standard deviation of 0.2 million characters (Scenario B), the critical z-score is approximately 2.576, and the confidence interval is \\[0.987, 1.313] million characters.\n",
        "*   The confidence interval calculated using the t-distribution and sample standard deviation (Scenario A) is slightly narrower than the interval calculated using the z-distribution and known population standard deviation (Scenario B).\n",
        "\n",
        "### Insights or Next Steps\n",
        "\n",
        "*   The difference in the width of the confidence intervals highlights the impact of knowing the population standard deviation versus estimating it from a small sample.\n",
        "*   Further investigation could explore if the print-head durability data meets the assumption of normality, which is underlying for these confidence interval calculations.\n"
      ]
    }
  ]
}