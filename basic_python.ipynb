{
  "nbformat": 4,
  "nbformat_minor": 0,
  "metadata": {
    "colab": {
      "provenance": [],
      "authorship_tag": "ABX9TyNmaz72e/v9fZLt4Q/8BxK1",
      "include_colab_link": true
    },
    "kernelspec": {
      "name": "python3",
      "display_name": "Python 3"
    },
    "language_info": {
      "name": "python"
    }
  },
  "cells": [
    {
      "cell_type": "markdown",
      "metadata": {
        "id": "view-in-github",
        "colab_type": "text"
      },
      "source": [
        "<a href=\"https://colab.research.google.com/github/SURESHASWATHI/assignment/blob/main/basic_python.ipynb\" target=\"_parent\"><img src=\"https://colab.research.google.com/assets/colab-badge.svg\" alt=\"Open In Colab\"/></a>"
      ]
    },
    {
      "cell_type": "code",
      "execution_count": 11,
      "metadata": {
        "id": "9IQN5ZqKR4yS"
      },
      "outputs": [],
      "source": [
        "#1.prime number"
      ]
    },
    {
      "cell_type": "code",
      "metadata": {
        "colab": {
          "base_uri": "https://localhost:8080/"
        },
        "id": "d12a1aed",
        "outputId": "51aea59a-b7d3-4a62-c0a6-7e4af4a8d6c0"
      },
      "source": [
        "def is_prime(num):\n",
        "  \"\"\"\n",
        "  Checks if a given number is prime.\n",
        "\n",
        "  Args:\n",
        "    num: An integer.\n",
        "\n",
        "  Returns:\n",
        "    True if the number is prime, False otherwise.\n",
        "  \"\"\"\n",
        "  if num <= 1:\n",
        "    return False\n",
        "  for i in range(2, int(num**0.5) + 1):\n",
        "    if num % i == 0:\n",
        "      return False\n",
        "  return True\n",
        "\n",
        "# Example usage:\n",
        "number_to_check = 17\n",
        "if is_prime(number_to_check):\n",
        "  print(f\"{number_to_check} is a prime number.\")\n",
        "else:\n",
        "  print(f\"{number_to_check} is not a prime number.\")\n",
        "\n",
        "number_to_check = 10\n",
        "if is_prime(number_to_check):\n",
        "  print(f\"{number_to_check} is a prime number.\")\n",
        "else:\n",
        "  print(f\"{number_to_check} is not a prime number.\")"
      ],
      "execution_count": 12,
      "outputs": [
        {
          "output_type": "stream",
          "name": "stdout",
          "text": [
            "17 is a prime number.\n",
            "10 is not a prime number.\n"
          ]
        }
      ]
    },
    {
      "cell_type": "code",
      "source": [
        "#Product of Random Numbers"
      ],
      "metadata": {
        "id": "McA9tThoSnyM"
      },
      "execution_count": 13,
      "outputs": []
    },
    {
      "cell_type": "code",
      "source": [
        "import random\n",
        "\n",
        "# Generate two random numbers\n",
        "num1 = random.randint(1, 10)  # You can adjust the range as needed\n",
        "num2 = random.randint(1, 10)\n",
        "\n",
        "# Calculate the correct product\n",
        "correct_product = num1 * num2\n",
        "\n",
        "# Ask the user for the product\n",
        "user_answer_str = input(f\"What is the product of {num1} and {num2}? \")\n",
        "\n",
        "# Convert user input to an integer and handle potential errors\n",
        "try:\n",
        "    user_answer = int(user_answer_str)\n",
        "\n",
        "    # Check if the user's answer is correct\n",
        "    if user_answer == correct_product:\n",
        "        print(\"Correct! Well done!\")\n",
        "    else:\n",
        "        print(f\"Incorrect. The correct answer is {correct_product}.\")\n",
        "\n",
        "except ValueError:\n",
        "    print(\"Invalid input. Please enter an integer.\")"
      ],
      "metadata": {
        "colab": {
          "base_uri": "https://localhost:8080/"
        },
        "id": "VWe4tYAsSuKA",
        "outputId": "6c62797f-b25a-4e7e-94a3-3cdbf44af76d"
      },
      "execution_count": 4,
      "outputs": [
        {
          "output_type": "stream",
          "name": "stdout",
          "text": [
            "What is the product of 9 and 10? 90\n",
            "Correct! Well done!\n"
          ]
        }
      ]
    },
    {
      "cell_type": "code",
      "source": [
        "#Squares of Even/Odd Numbers"
      ],
      "metadata": {
        "id": "_x5d7POkT1TV"
      },
      "execution_count": 5,
      "outputs": []
    },
    {
      "cell_type": "code",
      "source": [
        "# This script prints the squares of all even numbers between 100 and 200.\n",
        "\n",
        "for num in range(100, 201):\n",
        "  if num % 2 == 0:  # Check if the number is even\n",
        "    square = num ** 2\n",
        "    print(f\"The square of {num} is {square}\")"
      ],
      "metadata": {
        "colab": {
          "base_uri": "https://localhost:8080/"
        },
        "id": "-s6-aOk8Xqyc",
        "outputId": "9f574053-6379-4785-db0a-082120d2054f"
      },
      "execution_count": 6,
      "outputs": [
        {
          "output_type": "stream",
          "name": "stdout",
          "text": [
            "The square of 100 is 10000\n",
            "The square of 102 is 10404\n",
            "The square of 104 is 10816\n",
            "The square of 106 is 11236\n",
            "The square of 108 is 11664\n",
            "The square of 110 is 12100\n",
            "The square of 112 is 12544\n",
            "The square of 114 is 12996\n",
            "The square of 116 is 13456\n",
            "The square of 118 is 13924\n",
            "The square of 120 is 14400\n",
            "The square of 122 is 14884\n",
            "The square of 124 is 15376\n",
            "The square of 126 is 15876\n",
            "The square of 128 is 16384\n",
            "The square of 130 is 16900\n",
            "The square of 132 is 17424\n",
            "The square of 134 is 17956\n",
            "The square of 136 is 18496\n",
            "The square of 138 is 19044\n",
            "The square of 140 is 19600\n",
            "The square of 142 is 20164\n",
            "The square of 144 is 20736\n",
            "The square of 146 is 21316\n",
            "The square of 148 is 21904\n",
            "The square of 150 is 22500\n",
            "The square of 152 is 23104\n",
            "The square of 154 is 23716\n",
            "The square of 156 is 24336\n",
            "The square of 158 is 24964\n",
            "The square of 160 is 25600\n",
            "The square of 162 is 26244\n",
            "The square of 164 is 26896\n",
            "The square of 166 is 27556\n",
            "The square of 168 is 28224\n",
            "The square of 170 is 28900\n",
            "The square of 172 is 29584\n",
            "The square of 174 is 30276\n",
            "The square of 176 is 30976\n",
            "The square of 178 is 31684\n",
            "The square of 180 is 32400\n",
            "The square of 182 is 33124\n",
            "The square of 184 is 33856\n",
            "The square of 186 is 34596\n",
            "The square of 188 is 35344\n",
            "The square of 190 is 36100\n",
            "The square of 192 is 36864\n",
            "The square of 194 is 37636\n",
            "The square of 196 is 38416\n",
            "The square of 198 is 39204\n",
            "The square of 200 is 40000\n"
          ]
        }
      ]
    },
    {
      "cell_type": "code",
      "source": [
        "#Word counter"
      ],
      "metadata": {
        "id": "orxlv-F5X5Y-"
      },
      "execution_count": 7,
      "outputs": []
    },
    {
      "cell_type": "code",
      "source": [
        "from collections import Counter\n",
        "import re\n",
        "\n",
        "input_text = \"This is a sample text. This text will be used to demonstrate the word counter.\"\n",
        "\n",
        "# Remove punctuation and convert to lowercase\n",
        "cleaned_text = re.findall(r'\\b\\w+\\b', input_text.lower())\n",
        "\n",
        "# Count word occurrences\n",
        "word_counts = Counter(cleaned_text)\n",
        "\n",
        "# Print the word counts\n",
        "for word, count in word_counts.items():\n",
        "    print(f\"'{word}': {count}\")"
      ],
      "metadata": {
        "colab": {
          "base_uri": "https://localhost:8080/"
        },
        "id": "nxM7EyZqYDR6",
        "outputId": "62f7d81c-7a87-4092-98f0-58d908c70442"
      },
      "execution_count": 8,
      "outputs": [
        {
          "output_type": "stream",
          "name": "stdout",
          "text": [
            "'this': 2\n",
            "'is': 1\n",
            "'a': 1\n",
            "'sample': 1\n",
            "'text': 2\n",
            "'will': 1\n",
            "'be': 1\n",
            "'used': 1\n",
            "'to': 1\n",
            "'demonstrate': 1\n",
            "'the': 1\n",
            "'word': 1\n",
            "'counter': 1\n"
          ]
        }
      ]
    },
    {
      "cell_type": "code",
      "source": [
        "#Check for Palindrome"
      ],
      "metadata": {
        "id": "Xg9OxkGuYaLo"
      },
      "execution_count": 9,
      "outputs": []
    },
    {
      "cell_type": "code",
      "source": [
        "import re\n",
        "\n",
        "def is_palindrome(text):\n",
        "  \"\"\"\n",
        "  Checks if a string is a palindrome, ignoring spaces, punctuation, and capitalization.\n",
        "\n",
        "  Args:\n",
        "    text: The input string.\n",
        "\n",
        "  Returns:\n",
        "    True if the string is a palindrome, False otherwise.\n",
        "  \"\"\"\n",
        "  # Remove non-alphanumeric characters and convert to lowercase\n",
        "  cleaned_text = re.sub(r'[^a-zA-Z0-9]', '', text).lower()\n",
        "\n",
        "  # Check if the cleaned text is equal to its reverse\n",
        "  return cleaned_text == cleaned_text[::-1]\n",
        "\n",
        "# Example usage:\n",
        "print(is_palindrome(\"racecar\"))\n",
        "print(is_palindrome(\"A man, a plan, a canal: Panama\"))\n",
        "print(is_palindrome(\"hello\"))"
      ],
      "metadata": {
        "colab": {
          "base_uri": "https://localhost:8080/"
        },
        "id": "c63fmxEhYm5I",
        "outputId": "d1ffa479-3eaf-4f69-f210-1407733908be"
      },
      "execution_count": 10,
      "outputs": [
        {
          "output_type": "stream",
          "name": "stdout",
          "text": [
            "True\n",
            "True\n",
            "False\n"
          ]
        }
      ]
    }
  ]
}