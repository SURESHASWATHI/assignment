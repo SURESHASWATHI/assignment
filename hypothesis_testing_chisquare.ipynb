{
  "nbformat": 4,
  "nbformat_minor": 0,
  "metadata": {
    "colab": {
      "provenance": [],
      "authorship_tag": "ABX9TyOOxgE4sY4JtOCfEdy3byhn",
      "include_colab_link": true
    },
    "kernelspec": {
      "name": "python3",
      "display_name": "Python 3"
    },
    "language_info": {
      "name": "python"
    }
  },
  "cells": [
    {
      "cell_type": "markdown",
      "metadata": {
        "id": "view-in-github",
        "colab_type": "text"
      },
      "source": [
        "<a href=\"https://colab.research.google.com/github/SURESHASWATHI/assignment/blob/main/hypothesis_testing_chisquare.ipynb\" target=\"_parent\"><img src=\"https://colab.research.google.com/assets/colab-badge.svg\" alt=\"Open In Colab\"/></a>"
      ]
    },
    {
      "cell_type": "code",
      "execution_count": null,
      "metadata": {
        "id": "zVjBdlcJMJ0o"
      },
      "outputs": [],
      "source": []
    },
    {
      "cell_type": "markdown",
      "metadata": {
        "id": "3ba27b5e"
      },
      "source": [
        "# Task\n",
        "Perform a Chi-Square test for independence to determine if there is a significant association between the type of smart home device purchased (Smart Thermostats vs. Smart Lights) and customer satisfaction level, using the provided contingency table data. State the hypotheses, compute the Chi-Square statistic, determine the critical value at a 0.05 significance level, and make a decision based on the results. Provide a detailed report of the analysis."
      ]
    },
    {
      "cell_type": "markdown",
      "metadata": {
        "id": "62f3a6e5"
      },
      "source": [
        "## Load data\n",
        "\n",
        "### Subtask:\n",
        "Manually input the contingency table data into a format suitable for analysis, such as a Pandas DataFrame.\n"
      ]
    },
    {
      "cell_type": "markdown",
      "metadata": {
        "id": "89837e68"
      },
      "source": [
        "**Reasoning**:\n",
        "Manually input the contingency table data into a dictionary and convert it to a Pandas DataFrame with appropriate row and column names.\n",
        "\n"
      ]
    },
    {
      "cell_type": "code",
      "metadata": {
        "colab": {
          "base_uri": "https://localhost:8080/",
          "height": 125
        },
        "id": "08f8fd68",
        "outputId": "9bb23160-14a5-4d71-b375-ea92e1eb1dad"
      },
      "source": [
        "import pandas as pd\n",
        "\n",
        "data = {'Satisfied': [100, 150],\n",
        "        'Neutral': [50, 70],\n",
        "        'Dissatisfied': [30, 80]}\n",
        "\n",
        "df = pd.DataFrame(data, index=['Smart Thermostats', 'Smart Lights'])\n",
        "\n",
        "display(df)"
      ],
      "execution_count": 1,
      "outputs": [
        {
          "output_type": "display_data",
          "data": {
            "text/plain": [
              "                   Satisfied  Neutral  Dissatisfied\n",
              "Smart Thermostats        100       50            30\n",
              "Smart Lights             150       70            80"
            ],
            "text/html": [
              "\n",
              "  <div id=\"df-a08a834c-e44d-4e1f-8683-1456bf2a194a\" class=\"colab-df-container\">\n",
              "    <div>\n",
              "<style scoped>\n",
              "    .dataframe tbody tr th:only-of-type {\n",
              "        vertical-align: middle;\n",
              "    }\n",
              "\n",
              "    .dataframe tbody tr th {\n",
              "        vertical-align: top;\n",
              "    }\n",
              "\n",
              "    .dataframe thead th {\n",
              "        text-align: right;\n",
              "    }\n",
              "</style>\n",
              "<table border=\"1\" class=\"dataframe\">\n",
              "  <thead>\n",
              "    <tr style=\"text-align: right;\">\n",
              "      <th></th>\n",
              "      <th>Satisfied</th>\n",
              "      <th>Neutral</th>\n",
              "      <th>Dissatisfied</th>\n",
              "    </tr>\n",
              "  </thead>\n",
              "  <tbody>\n",
              "    <tr>\n",
              "      <th>Smart Thermostats</th>\n",
              "      <td>100</td>\n",
              "      <td>50</td>\n",
              "      <td>30</td>\n",
              "    </tr>\n",
              "    <tr>\n",
              "      <th>Smart Lights</th>\n",
              "      <td>150</td>\n",
              "      <td>70</td>\n",
              "      <td>80</td>\n",
              "    </tr>\n",
              "  </tbody>\n",
              "</table>\n",
              "</div>\n",
              "    <div class=\"colab-df-buttons\">\n",
              "\n",
              "  <div class=\"colab-df-container\">\n",
              "    <button class=\"colab-df-convert\" onclick=\"convertToInteractive('df-a08a834c-e44d-4e1f-8683-1456bf2a194a')\"\n",
              "            title=\"Convert this dataframe to an interactive table.\"\n",
              "            style=\"display:none;\">\n",
              "\n",
              "  <svg xmlns=\"http://www.w3.org/2000/svg\" height=\"24px\" viewBox=\"0 -960 960 960\">\n",
              "    <path d=\"M120-120v-720h720v720H120Zm60-500h600v-160H180v160Zm220 220h160v-160H400v160Zm0 220h160v-160H400v160ZM180-400h160v-160H180v160Zm440 0h160v-160H620v160ZM180-180h160v-160H180v160Zm440 0h160v-160H620v160Z\"/>\n",
              "  </svg>\n",
              "    </button>\n",
              "\n",
              "  <style>\n",
              "    .colab-df-container {\n",
              "      display:flex;\n",
              "      gap: 12px;\n",
              "    }\n",
              "\n",
              "    .colab-df-convert {\n",
              "      background-color: #E8F0FE;\n",
              "      border: none;\n",
              "      border-radius: 50%;\n",
              "      cursor: pointer;\n",
              "      display: none;\n",
              "      fill: #1967D2;\n",
              "      height: 32px;\n",
              "      padding: 0 0 0 0;\n",
              "      width: 32px;\n",
              "    }\n",
              "\n",
              "    .colab-df-convert:hover {\n",
              "      background-color: #E2EBFA;\n",
              "      box-shadow: 0px 1px 2px rgba(60, 64, 67, 0.3), 0px 1px 3px 1px rgba(60, 64, 67, 0.15);\n",
              "      fill: #174EA6;\n",
              "    }\n",
              "\n",
              "    .colab-df-buttons div {\n",
              "      margin-bottom: 4px;\n",
              "    }\n",
              "\n",
              "    [theme=dark] .colab-df-convert {\n",
              "      background-color: #3B4455;\n",
              "      fill: #D2E3FC;\n",
              "    }\n",
              "\n",
              "    [theme=dark] .colab-df-convert:hover {\n",
              "      background-color: #434B5C;\n",
              "      box-shadow: 0px 1px 3px 1px rgba(0, 0, 0, 0.15);\n",
              "      filter: drop-shadow(0px 1px 2px rgba(0, 0, 0, 0.3));\n",
              "      fill: #FFFFFF;\n",
              "    }\n",
              "  </style>\n",
              "\n",
              "    <script>\n",
              "      const buttonEl =\n",
              "        document.querySelector('#df-a08a834c-e44d-4e1f-8683-1456bf2a194a button.colab-df-convert');\n",
              "      buttonEl.style.display =\n",
              "        google.colab.kernel.accessAllowed ? 'block' : 'none';\n",
              "\n",
              "      async function convertToInteractive(key) {\n",
              "        const element = document.querySelector('#df-a08a834c-e44d-4e1f-8683-1456bf2a194a');\n",
              "        const dataTable =\n",
              "          await google.colab.kernel.invokeFunction('convertToInteractive',\n",
              "                                                    [key], {});\n",
              "        if (!dataTable) return;\n",
              "\n",
              "        const docLinkHtml = 'Like what you see? Visit the ' +\n",
              "          '<a target=\"_blank\" href=https://colab.research.google.com/notebooks/data_table.ipynb>data table notebook</a>'\n",
              "          + ' to learn more about interactive tables.';\n",
              "        element.innerHTML = '';\n",
              "        dataTable['output_type'] = 'display_data';\n",
              "        await google.colab.output.renderOutput(dataTable, element);\n",
              "        const docLink = document.createElement('div');\n",
              "        docLink.innerHTML = docLinkHtml;\n",
              "        element.appendChild(docLink);\n",
              "      }\n",
              "    </script>\n",
              "  </div>\n",
              "\n",
              "\n",
              "    <div id=\"df-979fdbe7-a7cc-48c0-a491-fb4ad19b4114\">\n",
              "      <button class=\"colab-df-quickchart\" onclick=\"quickchart('df-979fdbe7-a7cc-48c0-a491-fb4ad19b4114')\"\n",
              "                title=\"Suggest charts\"\n",
              "                style=\"display:none;\">\n",
              "\n",
              "<svg xmlns=\"http://www.w3.org/2000/svg\" height=\"24px\"viewBox=\"0 0 24 24\"\n",
              "     width=\"24px\">\n",
              "    <g>\n",
              "        <path d=\"M19 3H5c-1.1 0-2 .9-2 2v14c0 1.1.9 2 2 2h14c1.1 0 2-.9 2-2V5c0-1.1-.9-2-2-2zM9 17H7v-7h2v7zm4 0h-2V7h2v10zm4 0h-2v-4h2v4z\"/>\n",
              "    </g>\n",
              "</svg>\n",
              "      </button>\n",
              "\n",
              "<style>\n",
              "  .colab-df-quickchart {\n",
              "      --bg-color: #E8F0FE;\n",
              "      --fill-color: #1967D2;\n",
              "      --hover-bg-color: #E2EBFA;\n",
              "      --hover-fill-color: #174EA6;\n",
              "      --disabled-fill-color: #AAA;\n",
              "      --disabled-bg-color: #DDD;\n",
              "  }\n",
              "\n",
              "  [theme=dark] .colab-df-quickchart {\n",
              "      --bg-color: #3B4455;\n",
              "      --fill-color: #D2E3FC;\n",
              "      --hover-bg-color: #434B5C;\n",
              "      --hover-fill-color: #FFFFFF;\n",
              "      --disabled-bg-color: #3B4455;\n",
              "      --disabled-fill-color: #666;\n",
              "  }\n",
              "\n",
              "  .colab-df-quickchart {\n",
              "    background-color: var(--bg-color);\n",
              "    border: none;\n",
              "    border-radius: 50%;\n",
              "    cursor: pointer;\n",
              "    display: none;\n",
              "    fill: var(--fill-color);\n",
              "    height: 32px;\n",
              "    padding: 0;\n",
              "    width: 32px;\n",
              "  }\n",
              "\n",
              "  .colab-df-quickchart:hover {\n",
              "    background-color: var(--hover-bg-color);\n",
              "    box-shadow: 0 1px 2px rgba(60, 64, 67, 0.3), 0 1px 3px 1px rgba(60, 64, 67, 0.15);\n",
              "    fill: var(--button-hover-fill-color);\n",
              "  }\n",
              "\n",
              "  .colab-df-quickchart-complete:disabled,\n",
              "  .colab-df-quickchart-complete:disabled:hover {\n",
              "    background-color: var(--disabled-bg-color);\n",
              "    fill: var(--disabled-fill-color);\n",
              "    box-shadow: none;\n",
              "  }\n",
              "\n",
              "  .colab-df-spinner {\n",
              "    border: 2px solid var(--fill-color);\n",
              "    border-color: transparent;\n",
              "    border-bottom-color: var(--fill-color);\n",
              "    animation:\n",
              "      spin 1s steps(1) infinite;\n",
              "  }\n",
              "\n",
              "  @keyframes spin {\n",
              "    0% {\n",
              "      border-color: transparent;\n",
              "      border-bottom-color: var(--fill-color);\n",
              "      border-left-color: var(--fill-color);\n",
              "    }\n",
              "    20% {\n",
              "      border-color: transparent;\n",
              "      border-left-color: var(--fill-color);\n",
              "      border-top-color: var(--fill-color);\n",
              "    }\n",
              "    30% {\n",
              "      border-color: transparent;\n",
              "      border-left-color: var(--fill-color);\n",
              "      border-top-color: var(--fill-color);\n",
              "      border-right-color: var(--fill-color);\n",
              "    }\n",
              "    40% {\n",
              "      border-color: transparent;\n",
              "      border-right-color: var(--fill-color);\n",
              "      border-top-color: var(--fill-color);\n",
              "    }\n",
              "    60% {\n",
              "      border-color: transparent;\n",
              "      border-right-color: var(--fill-color);\n",
              "    }\n",
              "    80% {\n",
              "      border-color: transparent;\n",
              "      border-right-color: var(--fill-color);\n",
              "      border-bottom-color: var(--fill-color);\n",
              "    }\n",
              "    90% {\n",
              "      border-color: transparent;\n",
              "      border-bottom-color: var(--fill-color);\n",
              "    }\n",
              "  }\n",
              "</style>\n",
              "\n",
              "      <script>\n",
              "        async function quickchart(key) {\n",
              "          const quickchartButtonEl =\n",
              "            document.querySelector('#' + key + ' button');\n",
              "          quickchartButtonEl.disabled = true;  // To prevent multiple clicks.\n",
              "          quickchartButtonEl.classList.add('colab-df-spinner');\n",
              "          try {\n",
              "            const charts = await google.colab.kernel.invokeFunction(\n",
              "                'suggestCharts', [key], {});\n",
              "          } catch (error) {\n",
              "            console.error('Error during call to suggestCharts:', error);\n",
              "          }\n",
              "          quickchartButtonEl.classList.remove('colab-df-spinner');\n",
              "          quickchartButtonEl.classList.add('colab-df-quickchart-complete');\n",
              "        }\n",
              "        (() => {\n",
              "          let quickchartButtonEl =\n",
              "            document.querySelector('#df-979fdbe7-a7cc-48c0-a491-fb4ad19b4114 button');\n",
              "          quickchartButtonEl.style.display =\n",
              "            google.colab.kernel.accessAllowed ? 'block' : 'none';\n",
              "        })();\n",
              "      </script>\n",
              "    </div>\n",
              "\n",
              "  <div id=\"id_484e8a71-a7b2-4c11-8ea2-3ffedb7deffb\">\n",
              "    <style>\n",
              "      .colab-df-generate {\n",
              "        background-color: #E8F0FE;\n",
              "        border: none;\n",
              "        border-radius: 50%;\n",
              "        cursor: pointer;\n",
              "        display: none;\n",
              "        fill: #1967D2;\n",
              "        height: 32px;\n",
              "        padding: 0 0 0 0;\n",
              "        width: 32px;\n",
              "      }\n",
              "\n",
              "      .colab-df-generate:hover {\n",
              "        background-color: #E2EBFA;\n",
              "        box-shadow: 0px 1px 2px rgba(60, 64, 67, 0.3), 0px 1px 3px 1px rgba(60, 64, 67, 0.15);\n",
              "        fill: #174EA6;\n",
              "      }\n",
              "\n",
              "      [theme=dark] .colab-df-generate {\n",
              "        background-color: #3B4455;\n",
              "        fill: #D2E3FC;\n",
              "      }\n",
              "\n",
              "      [theme=dark] .colab-df-generate:hover {\n",
              "        background-color: #434B5C;\n",
              "        box-shadow: 0px 1px 3px 1px rgba(0, 0, 0, 0.15);\n",
              "        filter: drop-shadow(0px 1px 2px rgba(0, 0, 0, 0.3));\n",
              "        fill: #FFFFFF;\n",
              "      }\n",
              "    </style>\n",
              "    <button class=\"colab-df-generate\" onclick=\"generateWithVariable('df')\"\n",
              "            title=\"Generate code using this dataframe.\"\n",
              "            style=\"display:none;\">\n",
              "\n",
              "  <svg xmlns=\"http://www.w3.org/2000/svg\" height=\"24px\"viewBox=\"0 0 24 24\"\n",
              "       width=\"24px\">\n",
              "    <path d=\"M7,19H8.4L18.45,9,17,7.55,7,17.6ZM5,21V16.75L18.45,3.32a2,2,0,0,1,2.83,0l1.4,1.43a1.91,1.91,0,0,1,.58,1.4,1.91,1.91,0,0,1-.58,1.4L9.25,21ZM18.45,9,17,7.55Zm-12,3A5.31,5.31,0,0,0,4.9,8.1,5.31,5.31,0,0,0,1,6.5,5.31,5.31,0,0,0,4.9,4.9,5.31,5.31,0,0,0,6.5,1,5.31,5.31,0,0,0,8.1,4.9,5.31,5.31,0,0,0,12,6.5,5.46,5.46,0,0,0,6.5,12Z\"/>\n",
              "  </svg>\n",
              "    </button>\n",
              "    <script>\n",
              "      (() => {\n",
              "      const buttonEl =\n",
              "        document.querySelector('#id_484e8a71-a7b2-4c11-8ea2-3ffedb7deffb button.colab-df-generate');\n",
              "      buttonEl.style.display =\n",
              "        google.colab.kernel.accessAllowed ? 'block' : 'none';\n",
              "\n",
              "      buttonEl.onclick = () => {\n",
              "        google.colab.notebook.generateWithVariable('df');\n",
              "      }\n",
              "      })();\n",
              "    </script>\n",
              "  </div>\n",
              "\n",
              "    </div>\n",
              "  </div>\n"
            ],
            "application/vnd.google.colaboratory.intrinsic+json": {
              "type": "dataframe",
              "variable_name": "df",
              "summary": "{\n  \"name\": \"df\",\n  \"rows\": 2,\n  \"fields\": [\n    {\n      \"column\": \"Satisfied\",\n      \"properties\": {\n        \"dtype\": \"number\",\n        \"std\": 35,\n        \"min\": 100,\n        \"max\": 150,\n        \"num_unique_values\": 2,\n        \"samples\": [\n          150,\n          100\n        ],\n        \"semantic_type\": \"\",\n        \"description\": \"\"\n      }\n    },\n    {\n      \"column\": \"Neutral\",\n      \"properties\": {\n        \"dtype\": \"number\",\n        \"std\": 14,\n        \"min\": 50,\n        \"max\": 70,\n        \"num_unique_values\": 2,\n        \"samples\": [\n          70,\n          50\n        ],\n        \"semantic_type\": \"\",\n        \"description\": \"\"\n      }\n    },\n    {\n      \"column\": \"Dissatisfied\",\n      \"properties\": {\n        \"dtype\": \"number\",\n        \"std\": 35,\n        \"min\": 30,\n        \"max\": 80,\n        \"num_unique_values\": 2,\n        \"samples\": [\n          80,\n          30\n        ],\n        \"semantic_type\": \"\",\n        \"description\": \"\"\n      }\n    }\n  ]\n}"
            }
          },
          "metadata": {}
        }
      ]
    },
    {
      "cell_type": "markdown",
      "metadata": {
        "id": "4c5dad3d"
      },
      "source": [
        "## Hypotheses\n",
        "\n",
        "### Subtask:\n",
        "State the null and alternative hypotheses for the Chi-Square test.\n"
      ]
    },
    {
      "cell_type": "markdown",
      "metadata": {
        "id": "c9ec7bcd"
      },
      "source": [
        "**Reasoning**:\n",
        "State the null and alternative hypotheses for the Chi-Square test.\n",
        "\n"
      ]
    },
    {
      "cell_type": "code",
      "metadata": {
        "colab": {
          "base_uri": "https://localhost:8080/"
        },
        "id": "bcb79ad0",
        "outputId": "00d7c351-b6c1-4f07-cb40-b8930a40da7a"
      },
      "source": [
        "print(\"Null Hypothesis (H₀): There is no significant association between the type of smart home device purchased and customer satisfaction level. The two variables are independent.\")\n",
        "print(\"Alternative Hypothesis (H₁): There is a significant association between the type of smart home device purchased and customer satisfaction level. The two variables are dependent.\")"
      ],
      "execution_count": 2,
      "outputs": [
        {
          "output_type": "stream",
          "name": "stdout",
          "text": [
            "Null Hypothesis (H₀): There is no significant association between the type of smart home device purchased and customer satisfaction level. The two variables are independent.\n",
            "Alternative Hypothesis (H₁): There is a significant association between the type of smart home device purchased and customer satisfaction level. The two variables are dependent.\n"
          ]
        }
      ]
    },
    {
      "cell_type": "markdown",
      "metadata": {
        "id": "52a4e303"
      },
      "source": [
        "## Calculate chi-square\n",
        "\n",
        "### Subtask:\n",
        "Compute the Chi-Square test statistic and the p-value using a statistical library.\n"
      ]
    },
    {
      "cell_type": "markdown",
      "metadata": {
        "id": "8d285b5b"
      },
      "source": [
        "**Reasoning**:\n",
        "Import the chi2_contingency function and apply it to the dataframe to compute the Chi-Square statistic, p-value, degrees of freedom, and expected frequencies.\n",
        "\n"
      ]
    },
    {
      "cell_type": "code",
      "metadata": {
        "colab": {
          "base_uri": "https://localhost:8080/",
          "height": 121
        },
        "id": "86a46074",
        "outputId": "e15c28d5-961f-4660-84bd-c17f66da12f0"
      },
      "source": [
        "from scipy.stats import chi2_contingency\n",
        "\n",
        "chi2_statistic, p_value, dof, expected_frequencies = chi2_contingency(df)\n",
        "\n",
        "print(f\"Chi-Square Statistic: {chi2_statistic}\")\n",
        "print(f\"P-value: {p_value}\")\n",
        "print(f\"Degrees of Freedom: {dof}\")\n",
        "print(\"Expected Frequencies:\")\n",
        "display(expected_frequencies)"
      ],
      "execution_count": 3,
      "outputs": [
        {
          "output_type": "stream",
          "name": "stdout",
          "text": [
            "Chi-Square Statistic: 6.4646464646464645\n",
            "P-value: 0.03946570419995253\n",
            "Degrees of Freedom: 2\n",
            "Expected Frequencies:\n"
          ]
        },
        {
          "output_type": "display_data",
          "data": {
            "text/plain": [
              "array([[ 93.75,  45.  ,  41.25],\n",
              "       [156.25,  75.  ,  68.75]])"
            ]
          },
          "metadata": {}
        }
      ]
    },
    {
      "cell_type": "markdown",
      "metadata": {
        "id": "6928ba3f"
      },
      "source": [
        "## Determine critical value\n",
        "\n",
        "### Subtask:\n",
        "Determine the critical Chi-Square value for the given significance level (0.05) and degrees of freedom.\n"
      ]
    },
    {
      "cell_type": "markdown",
      "metadata": {
        "id": "6714a1ba"
      },
      "source": [
        "**Reasoning**:\n",
        "Calculate the critical Chi-Square value using the degrees of freedom and significance level.\n",
        "\n"
      ]
    },
    {
      "cell_type": "code",
      "metadata": {
        "colab": {
          "base_uri": "https://localhost:8080/"
        },
        "id": "1762ac19",
        "outputId": "856d11ed-8a9d-482a-98c7-e59b663bdbc1"
      },
      "source": [
        "from scipy.stats import chi2\n",
        "\n",
        "alpha = 0.05\n",
        "critical_value = chi2.ppf(1 - alpha, dof)\n",
        "print(f\"Critical Chi-Square Value (alpha={alpha}, dof={dof}): {critical_value}\")"
      ],
      "execution_count": 4,
      "outputs": [
        {
          "output_type": "stream",
          "name": "stdout",
          "text": [
            "Critical Chi-Square Value (alpha=0.05, dof=2): 5.991464547107979\n"
          ]
        }
      ]
    },
    {
      "cell_type": "markdown",
      "metadata": {
        "id": "12c984b4"
      },
      "source": [
        "## Decision\n",
        "\n",
        "### Subtask:\n",
        "Compare the calculated Chi-Square statistic to the critical value and the p-value to the significance level to make a decision about rejecting the null hypothesis.\n"
      ]
    },
    {
      "cell_type": "markdown",
      "metadata": {
        "id": "2f7b3353"
      },
      "source": [
        "**Reasoning**:\n",
        "Compare the calculated Chi-Square statistic to the critical value and the p-value to the significance level, and print the decision based on these comparisons.\n",
        "\n"
      ]
    },
    {
      "cell_type": "code",
      "metadata": {
        "colab": {
          "base_uri": "https://localhost:8080/"
        },
        "id": "e9df984e",
        "outputId": "247a6641-4e74-4ba2-dd19-0d848939375f"
      },
      "source": [
        "chi2_statistic = 6.4646464646464645\n",
        "p_value = 0.03946570419995253\n",
        "critical_value = 5.99146454710798\n",
        "\n",
        "print(\"\\n--- Decision ---\")\n",
        "if chi2_statistic > critical_value and p_value < alpha:\n",
        "  print(f\"Since the Chi-Square statistic ({chi2_statistic:.4f}) is greater than the critical value ({critical_value:.4f})\")\n",
        "  print(f\"and the p-value ({p_value:.4f}) is less than the significance level ({alpha:.2f}),\")\n",
        "  print(\"we reject the null hypothesis.\")\n",
        "  print(\"Conclusion: There is a significant association between the type of smart home device purchased and customer satisfaction level.\")\n",
        "else:\n",
        "  print(f\"Since the Chi-Square statistic ({chi2_statistic:.4f}) is not greater than the critical value ({critical_value:.4f})\")\n",
        "  print(f\"or the p-value ({p_value:.4f}) is not less than the significance level ({alpha:.2f}),\")\n",
        "  print(\"we fail to reject the null hypothesis.\")\n",
        "  print(\"Conclusion: There is no significant association between the type of smart home device purchased and customer satisfaction level.\")"
      ],
      "execution_count": 5,
      "outputs": [
        {
          "output_type": "stream",
          "name": "stdout",
          "text": [
            "\n",
            "--- Decision ---\n",
            "Since the Chi-Square statistic (6.4646) is greater than the critical value (5.9915)\n",
            "and the p-value (0.0395) is less than the significance level (0.05),\n",
            "we reject the null hypothesis.\n",
            "Conclusion: There is a significant association between the type of smart home device purchased and customer satisfaction level.\n"
          ]
        }
      ]
    },
    {
      "cell_type": "markdown",
      "metadata": {
        "id": "2df4e147"
      },
      "source": [
        "## Report findings\n",
        "\n",
        "### Subtask:\n",
        "Summarize the results, including the hypotheses, Chi-Square statistic, p-value, critical value, and conclusion.\n"
      ]
    },
    {
      "cell_type": "markdown",
      "metadata": {
        "id": "7a4f1f5b"
      },
      "source": [
        "**Reasoning**:\n",
        "Print a summary of the Chi-Square test results, including the hypotheses, statistic, p-value, critical value, and conclusion based on the previous calculations and decisions.\n",
        "\n"
      ]
    },
    {
      "cell_type": "code",
      "metadata": {
        "colab": {
          "base_uri": "https://localhost:8080/"
        },
        "id": "a6d71bdc",
        "outputId": "8ffea6fc-0f38-4c64-88d6-8e96008f901c"
      },
      "source": [
        "print(\"--- Chi-Square Test for Independence Summary ---\")\n",
        "print(\"\\nHypotheses:\")\n",
        "print(\"Null Hypothesis (H₀): There is no significant association between the type of smart home device purchased and customer satisfaction level. The two variables are independent.\")\n",
        "print(\"Alternative Hypothesis (H₁): There is a significant association between the type of smart home device purchased and customer satisfaction level. The two variables are dependent.\")\n",
        "\n",
        "print(f\"\\nChi-Square Statistic: {chi2_statistic:.4f}\")\n",
        "print(f\"Degrees of Freedom (dof): {dof}\")\n",
        "print(f\"P-value: {p_value:.4f}\")\n",
        "\n",
        "print(f\"\\nSignificance Level (alpha): {alpha:.2f}\")\n",
        "print(f\"Critical Chi-Square Value: {critical_value:.4f}\")\n",
        "\n",
        "print(\"\\nDecision:\")\n",
        "if chi2_statistic > critical_value and p_value < alpha:\n",
        "  print(\"Based on the results, we reject the null hypothesis.\")\n",
        "  print(\"Conclusion: There is a significant association between the type of smart home device purchased and customer satisfaction level.\")\n",
        "else:\n",
        "  print(\"Based on the results, we fail to reject the null hypothesis.\")\n",
        "  print(\"Conclusion: There is no significant association between the type of smart home device purchased and customer satisfaction level.\")"
      ],
      "execution_count": 6,
      "outputs": [
        {
          "output_type": "stream",
          "name": "stdout",
          "text": [
            "--- Chi-Square Test for Independence Summary ---\n",
            "\n",
            "Hypotheses:\n",
            "Null Hypothesis (H₀): There is no significant association between the type of smart home device purchased and customer satisfaction level. The two variables are independent.\n",
            "Alternative Hypothesis (H₁): There is a significant association between the type of smart home device purchased and customer satisfaction level. The two variables are dependent.\n",
            "\n",
            "Chi-Square Statistic: 6.4646\n",
            "Degrees of Freedom (dof): 2\n",
            "P-value: 0.0395\n",
            "\n",
            "Significance Level (alpha): 0.05\n",
            "Critical Chi-Square Value: 5.9915\n",
            "\n",
            "Decision:\n",
            "Based on the results, we reject the null hypothesis.\n",
            "Conclusion: There is a significant association between the type of smart home device purchased and customer satisfaction level.\n"
          ]
        }
      ]
    },
    {
      "cell_type": "markdown",
      "metadata": {
        "id": "c71c8df1"
      },
      "source": [
        "## Summary:\n",
        "\n",
        "### Q&A\n",
        "*   **Is there a significant association between the type of smart home device purchased and customer satisfaction level?**\n",
        "    Yes, there is a significant association between the type of smart home device purchased and customer satisfaction level.\n",
        "\n",
        "### Data Analysis Key Findings\n",
        "*   The null hypothesis (H₀) stated there is no significant association between the type of smart home device purchased and customer satisfaction level, while the alternative hypothesis (H₁) stated there is a significant association.\n",
        "*   The calculated Chi-Square statistic is approximately 6.46.\n",
        "*   The degrees of freedom for the test are 2.\n",
        "*   The p-value for the test is approximately 0.0395.\n",
        "*   At a significance level ($\\alpha$) of 0.05, the critical Chi-Square value is approximately 5.9915.\n",
        "*   Since the Chi-Square statistic (6.46) is greater than the critical value (5.9915) and the p-value (0.0395) is less than the significance level (0.05), the null hypothesis is rejected.\n",
        "\n",
        "### Insights or Next Steps\n",
        "*   The results suggest that the type of smart home device purchased (Smart Thermostats vs. Smart Lights) is not independent of customer satisfaction levels. Further investigation could explore which specific device type is associated with higher or lower satisfaction.\n",
        "*   Analyze the expected frequencies versus the observed frequencies to understand where the significant differences in satisfaction lie between the two device types.\n"
      ]
    }
  ]
}