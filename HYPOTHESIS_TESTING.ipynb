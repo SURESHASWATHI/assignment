{
  "nbformat": 4,
  "nbformat_minor": 0,
  "metadata": {
    "colab": {
      "provenance": [],
      "authorship_tag": "ABX9TyNTsmdifqj2bWLTPSGykB0d",
      "include_colab_link": true
    },
    "kernelspec": {
      "name": "python3",
      "display_name": "Python 3"
    },
    "language_info": {
      "name": "python"
    }
  },
  "cells": [
    {
      "cell_type": "markdown",
      "metadata": {
        "id": "view-in-github",
        "colab_type": "text"
      },
      "source": [
        "<a href=\"https://colab.research.google.com/github/SURESHASWATHI/assignment/blob/main/HYPOTHESIS_TESTING.ipynb\" target=\"_parent\"><img src=\"https://colab.research.google.com/assets/colab-badge.svg\" alt=\"Open In Colab\"/></a>"
      ]
    },
    {
      "cell_type": "code",
      "execution_count": null,
      "metadata": {
        "id": "d6TOPzOINNBS"
      },
      "outputs": [],
      "source": []
    },
    {
      "cell_type": "markdown",
      "metadata": {
        "id": "8c180871"
      },
      "source": [
        "# Task\n",
        "Perform a hypothesis test to investigate if the weekly operating costs for Bombay Hospitality Ltd. franchises are higher than the theoretical model W = $1,000 + $5X suggests, given a sample of 25 restaurants with a mean weekly cost of Rs. 3,050, where X follows a normal distribution with a mean of 600 units and a standard deviation of 25 units, using an alpha level of 5%. State the hypotheses, calculate the test statistic, determine the critical value, make a decision, and provide a conclusion."
      ]
    },
    {
      "cell_type": "markdown",
      "metadata": {
        "id": "9a0d3931"
      },
      "source": [
        "## State the hypotheses\n",
        "\n",
        "### Subtask:\n",
        "Define the null and alternative hypotheses based on the problem description.\n"
      ]
    },
    {
      "cell_type": "markdown",
      "metadata": {
        "id": "0a3ab8e9"
      },
      "source": [
        "**Reasoning**:\n",
        "Define and state the null and alternative hypotheses based on the problem description.\n",
        "\n"
      ]
    },
    {
      "cell_type": "code",
      "metadata": {
        "colab": {
          "base_uri": "https://localhost:8080/"
        },
        "id": "4288b841",
        "outputId": "b4272d99-9677-48e8-c151-794440b07b75"
      },
      "source": [
        "# Null Hypothesis (H0): The mean weekly operating cost is equal to or less than the cost predicted by the theoretical model.\n",
        "# H0: mu <= 1000 + 5 * 600  => mu <= 4000\n",
        "\n",
        "# Alternative Hypothesis (Ha): The mean weekly operating cost is higher than the cost predicted by the theoretical model.\n",
        "# Ha: mu > 1000 + 5 * 600 => mu > 4000\n",
        "\n",
        "print(\"Null Hypothesis (H0): The mean weekly operating cost is less than or equal to 4000.\")\n",
        "print(\"Alternative Hypothesis (Ha): The mean weekly operating cost is greater than 4000.\")"
      ],
      "execution_count": 1,
      "outputs": [
        {
          "output_type": "stream",
          "name": "stdout",
          "text": [
            "Null Hypothesis (H0): The mean weekly operating cost is less than or equal to 4000.\n",
            "Alternative Hypothesis (Ha): The mean weekly operating cost is greater than 4000.\n"
          ]
        }
      ]
    },
    {
      "cell_type": "markdown",
      "metadata": {
        "id": "aefdfc06"
      },
      "source": [
        "## Calculate the theoretical mean weekly cost\n",
        "\n",
        "### Subtask:\n",
        "Use the given cost model and the mean number of units produced (X) to calculate the theoretical mean weekly cost (μ).\n"
      ]
    },
    {
      "cell_type": "markdown",
      "metadata": {
        "id": "82d89b61"
      },
      "source": [
        "**Reasoning**:\n",
        "Assign the given values and calculate the theoretical mean weekly cost.\n",
        "\n"
      ]
    },
    {
      "cell_type": "code",
      "metadata": {
        "colab": {
          "base_uri": "https://localhost:8080/"
        },
        "id": "c859910b",
        "outputId": "2d7fa3df-4790-4de7-fbc2-c219958d27ec"
      },
      "source": [
        "fixed_cost = 1000\n",
        "variable_cost_per_unit = 5\n",
        "mean_x = 600\n",
        "\n",
        "theoretical_mean_cost = fixed_cost + variable_cost_per_unit * mean_x\n",
        "\n",
        "print(f\"The theoretical mean weekly cost (μ) is: {theoretical_mean_cost}\")"
      ],
      "execution_count": 2,
      "outputs": [
        {
          "output_type": "stream",
          "name": "stdout",
          "text": [
            "The theoretical mean weekly cost (μ) is: 4000\n"
          ]
        }
      ]
    },
    {
      "cell_type": "markdown",
      "metadata": {
        "id": "ce128747"
      },
      "source": [
        "## Calculate the standard deviation\n",
        "\n",
        "### Subtask:\n",
        "Calculate the standard deviation of the weekly cost (σ) based on the given information.\n"
      ]
    },
    {
      "cell_type": "markdown",
      "metadata": {
        "id": "1cf7d4a7"
      },
      "source": [
        "**Reasoning**:\n",
        "Calculate the standard deviation of the weekly cost by multiplying the standard deviation of X by the variable cost per unit.\n",
        "\n"
      ]
    },
    {
      "cell_type": "code",
      "metadata": {
        "colab": {
          "base_uri": "https://localhost:8080/"
        },
        "id": "1a6e27e6",
        "outputId": "1a4f4170-cf24-4512-ac3a-7c8e28e0efb9"
      },
      "source": [
        "std_dev_x = 25\n",
        "std_dev_w = variable_cost_per_unit * std_dev_x\n",
        "print(f\"The standard deviation of the weekly cost (σ) is: {std_dev_w}\")"
      ],
      "execution_count": 3,
      "outputs": [
        {
          "output_type": "stream",
          "name": "stdout",
          "text": [
            "The standard deviation of the weekly cost (σ) is: 125\n"
          ]
        }
      ]
    },
    {
      "cell_type": "markdown",
      "metadata": {
        "id": "cbfc15fe"
      },
      "source": [
        "## Calculate the test statistic\n",
        "\n",
        "### Subtask:\n",
        "Use the provided formula, the sample mean, the theoretical mean, the standard deviation, and the sample size to calculate the test statistic (t).\n"
      ]
    },
    {
      "cell_type": "markdown",
      "metadata": {
        "id": "778fbc2e"
      },
      "source": [
        "**Reasoning**:\n",
        "Calculate the standard error and the test statistic using the provided values and formulas.\n",
        "\n"
      ]
    },
    {
      "cell_type": "code",
      "metadata": {
        "colab": {
          "base_uri": "https://localhost:8080/"
        },
        "id": "2d207c4d",
        "outputId": "a67c6980-2ec3-4bf4-d221-fe367a09677d"
      },
      "source": [
        "import numpy as np\n",
        "\n",
        "sample_mean_cost = 3050\n",
        "sample_size = 25\n",
        "\n",
        "# standard_dev_w is already calculated in a previous step\n",
        "\n",
        "standard_error = std_dev_w / np.sqrt(sample_size)\n",
        "test_statistic = (sample_mean_cost - theoretical_mean_cost) / standard_error\n",
        "\n",
        "print(f\"The calculated test statistic (t) is: {test_statistic}\")"
      ],
      "execution_count": 4,
      "outputs": [
        {
          "output_type": "stream",
          "name": "stdout",
          "text": [
            "The calculated test statistic (t) is: -38.0\n"
          ]
        }
      ]
    },
    {
      "cell_type": "markdown",
      "metadata": {
        "id": "b936b85b"
      },
      "source": [
        "## Determine the critical value\n",
        "\n",
        "### Subtask:\n",
        "Find the critical value from the standard normal (Z) distribution table for a given alpha level (α = 0.05).\n"
      ]
    },
    {
      "cell_type": "markdown",
      "metadata": {
        "id": "7cdce85e"
      },
      "source": [
        "**Reasoning**:\n",
        "Determine the critical Z-value for a one-tailed test with alpha = 0.05.\n",
        "\n"
      ]
    },
    {
      "cell_type": "code",
      "metadata": {
        "colab": {
          "base_uri": "https://localhost:8080/"
        },
        "id": "2ac1cfa9",
        "outputId": "c975abac-df08-4751-a867-906e54558744"
      },
      "source": [
        "from scipy.stats import norm\n",
        "\n",
        "# The alternative hypothesis (Ha: mu > 4000) indicates a one-tailed test (right-tailed).\n",
        "alpha = 0.05\n",
        "\n",
        "# For a right-tailed test with alpha = 0.05, we need the Z-value that leaves 0.05 in the upper tail.\n",
        "# This is equivalent to finding the Z-value that leaves 1 - alpha = 0.95 in the lower tail.\n",
        "critical_z_value = norm.ppf(1 - alpha)\n",
        "\n",
        "print(f\"The critical Z-value for a one-tailed test with alpha = {alpha} is: {critical_z_value}\")"
      ],
      "execution_count": 5,
      "outputs": [
        {
          "output_type": "stream",
          "name": "stdout",
          "text": [
            "The critical Z-value for a one-tailed test with alpha = 0.05 is: 1.6448536269514722\n"
          ]
        }
      ]
    },
    {
      "cell_type": "markdown",
      "metadata": {
        "id": "9ad26e77"
      },
      "source": [
        "## Make a decision\n",
        "\n",
        "### Subtask:\n",
        "Compare the calculated test statistic with the critical value to decide whether to reject the null hypothesis.\n"
      ]
    },
    {
      "cell_type": "markdown",
      "metadata": {
        "id": "94552238"
      },
      "source": [
        "**Reasoning**:\n",
        "Compare the calculated test statistic with the critical Z-value and print the decision regarding the null hypothesis.\n",
        "\n"
      ]
    },
    {
      "cell_type": "code",
      "metadata": {
        "colab": {
          "base_uri": "https://localhost:8080/"
        },
        "id": "d7521e46",
        "outputId": "20fd7a90-5df1-4bde-bb2e-fea75d510ca7"
      },
      "source": [
        "print(f\"Calculated Test Statistic: {test_statistic}\")\n",
        "print(f\"Critical Z-value: {critical_z_value}\")\n",
        "\n",
        "if test_statistic > critical_z_value:\n",
        "  print(\"Decision: Reject the null hypothesis.\")\n",
        "  print(\"Reason: The test statistic is greater than the critical Z-value.\")\n",
        "else:\n",
        "  print(\"Decision: Do not reject the null hypothesis.\")\n",
        "  print(\"Reason: The test statistic is less than or equal to the critical Z-value.\")"
      ],
      "execution_count": 6,
      "outputs": [
        {
          "output_type": "stream",
          "name": "stdout",
          "text": [
            "Calculated Test Statistic: -38.0\n",
            "Critical Z-value: 1.6448536269514722\n",
            "Decision: Do not reject the null hypothesis.\n",
            "Reason: The test statistic is less than or equal to the critical Z-value.\n"
          ]
        }
      ]
    },
    {
      "cell_type": "markdown",
      "metadata": {
        "id": "2d90e179"
      },
      "source": [
        "## Conclusion\n",
        "\n",
        "### Subtask:\n",
        "Based on the decision, write a conclusion about whether there is evidence to support the restaurant owners' claim.\n"
      ]
    },
    {
      "cell_type": "markdown",
      "metadata": {
        "id": "65c34062"
      },
      "source": [
        "**Reasoning**:\n",
        "Based on the decision from the previous step (not rejecting the null hypothesis), write a conclusion that addresses the restaurant owners' claim.\n",
        "\n"
      ]
    },
    {
      "cell_type": "code",
      "metadata": {
        "colab": {
          "base_uri": "https://localhost:8080/"
        },
        "id": "b667e1cc",
        "outputId": "962e6c88-8d78-4497-aff7-2471d154b4a8"
      },
      "source": [
        "# Recall the hypotheses:\n",
        "# H0: mu <= 4000 (Mean weekly operating cost is less than or equal to the theoretical model suggests)\n",
        "# Ha: mu > 4000 (Mean weekly operating cost is higher than the theoretical model suggests)\n",
        "\n",
        "# Recall the decision: Do not reject the null hypothesis.\n",
        "\n",
        "print(\"Conclusion:\")\n",
        "print(\"Based on the hypothesis test, we did not reject the null hypothesis (H0).\")\n",
        "print(\"This means there is not enough statistical evidence at the 5% significance level\")\n",
        "print(\"to support the restaurant owners' claim that the weekly operating costs are higher\")\n",
        "print(\"than the theoretical model ($1,000 + $5X) suggests.\")"
      ],
      "execution_count": 7,
      "outputs": [
        {
          "output_type": "stream",
          "name": "stdout",
          "text": [
            "Conclusion:\n",
            "Based on the hypothesis test, we did not reject the null hypothesis (H0).\n",
            "This means there is not enough statistical evidence at the 5% significance level\n",
            "to support the restaurant owners' claim that the weekly operating costs are higher\n",
            "than the theoretical model ($1,000 + $5X) suggests.\n"
          ]
        }
      ]
    },
    {
      "cell_type": "markdown",
      "metadata": {
        "id": "85444ae4"
      },
      "source": [
        "## Summary:\n",
        "\n",
        "### Data Analysis Key Findings\n",
        "\n",
        "*   The theoretical mean weekly operating cost based on the model W = \\$1,000 + \\$5X and a mean X of 600 units is \\$4,000.\n",
        "*   The standard deviation of the weekly operating cost (W) is calculated as 5 times the standard deviation of X (25), resulting in \\$125.\n",
        "*   The calculated test statistic for the sample of 25 restaurants with a mean weekly cost of \\$3,050 is -38.0.\n",
        "*   For a one-tailed hypothesis test with an alpha level of 0.05, the critical Z-value is approximately 1.645.\n",
        "*   The test statistic (-38.0) is less than the critical Z-value (1.645), leading to the decision to not reject the null hypothesis.\n",
        "\n",
        "### Insights or Next Steps\n",
        "\n",
        "*   The analysis indicates that the sample data does not provide sufficient evidence at the 5% significance level to conclude that the weekly operating costs are higher than the theoretical model suggests.\n",
        "*   Given the significantly lower sample mean compared to the theoretical mean, further investigation into potential factors causing this difference (e.g., efficiencies in operations, lower actual unit production than the mean X, or inaccuracies in the theoretical model itself) could be beneficial.\n"
      ]
    }
  ]
}